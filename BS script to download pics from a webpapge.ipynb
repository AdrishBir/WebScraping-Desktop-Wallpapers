{
 "cells": [
  {
   "cell_type": "code",
   "execution_count": 4,
   "metadata": {},
   "outputs": [],
   "source": [
    "import bs4 as bs\n",
    "import requests\n",
    "import os"
   ]
  },
  {
   "cell_type": "code",
   "execution_count": 43,
   "metadata": {},
   "outputs": [],
   "source": [
    "source = requests.get('https://unsplash.com/s/photos/iceland?orientation=landscape')\n",
    "soup = bs.BeautifulSoup(source.text,'lxml')"
   ]
  },
  {
   "cell_type": "code",
   "execution_count": 67,
   "metadata": {},
   "outputs": [
    {
     "name": "stdout",
     "output_type": "stream",
     "text": [
      "257\n"
     ]
    }
   ],
   "source": [
    "i=0\n",
    "meta = []\n",
    "for url in soup.find_all('a'):\n",
    "    meta.append(url.get('href'))\n",
    "    i+=1\n",
    "print(i)    "
   ]
  },
  {
   "cell_type": "code",
   "execution_count": 103,
   "metadata": {},
   "outputs": [
    {
     "name": "stdout",
     "output_type": "stream",
     "text": [
      "60\n",
      "/photos/vpHCfunwDrQ\n"
     ]
    }
   ],
   "source": [
    "import re\n",
    "photo_id = []\n",
    "for i in meta:\n",
    "    if re.search('\\A/photos/', i):\n",
    "        photo_id.append(i)\n",
    "    else:\n",
    "        pass\n",
    "print(len(photo_id))\n",
    "print(photo_id[7])"
   ]
  },
  {
   "cell_type": "code",
   "execution_count": 104,
   "metadata": {},
   "outputs": [
    {
     "data": {
      "text/plain": [
       "660"
      ]
     },
     "execution_count": 104,
     "metadata": {},
     "output_type": "execute_result"
    }
   ],
   "source": [
    "links = []\n",
    "for i in photo_id:\n",
    "    source1 = requests.get(''.join(['https://unsplash.com',i]))\n",
    "    soup1 = bs.BeautifulSoup(source1.text,'html.parser')\n",
    "    for j in soup1.find_all('img',class_='_2zEKz'):\n",
    "        img = j.get('src')\n",
    "        links.append(img)\n",
    "len(links)"
   ]
  },
  {
   "cell_type": "code",
   "execution_count": 102,
   "metadata": {},
   "outputs": [
    {
     "name": "stdout",
     "output_type": "stream",
     "text": [
      "https://images.unsplash.com/photo-1504829857797-ddff29c27927?ixlib=rb-1.2.1&ixid=eyJhcHBfaWQiOjEyMDd9&auto=format&fit=crop&w=1000&q=80\n",
      "https://images.unsplash.com/photo-1504829857797-ddff29c27927?ixlib=rb-1.2.1&ixid=eyJhcHBfaWQiOjEyMDd9&auto=format&fit=crop&w=1000&q=80\n",
      "https://images.unsplash.com/photo-1462476800155-4519adb2dcf6?ixlib=rb-1.2.1&auto=format&fit=crop&w=750&q=60\n",
      "https://images.unsplash.com/photo-1464658824763-547203e5a4a1?ixlib=rb-1.2.1&auto=format&fit=crop&w=750&q=60\n",
      "https://images.unsplash.com/photo-1506086679524-493c64fdfaa6?ixlib=rb-1.2.1&auto=format&fit=crop&w=750&q=60\n",
      "https://images.unsplash.com/photo-1514991679901-aad6754789b3?ixlib=rb-1.2.1&auto=format&fit=crop&w=750&q=60\n",
      "https://images.unsplash.com/photo-1542243337-8a2c60753f6e?ixlib=rb-1.2.1&auto=format&fit=crop&w=750&q=60\n",
      "https://images.unsplash.com/photo-1510256506868-484d0db06ee2?ixlib=rb-1.2.1&auto=format&fit=crop&w=750&q=60\n",
      "https://images.unsplash.com/photo-1465353471565-b77e538f34c9?ixlib=rb-1.2.1&auto=format&fit=crop&w=750&q=60\n",
      "https://images.unsplash.com/photo-1478978284535-74518ff7895c?ixlib=rb-1.2.1&auto=format&fit=crop&w=750&q=60\n",
      "https://images.unsplash.com/photo-1439725434120-c1b50e0cc329?ixlib=rb-1.2.1&auto=format&fit=crop&w=750&q=60\n"
     ]
    }
   ],
   "source": [
    "source1 = requests.get('https://unsplash.com/photos/ABtmE3jhaPQ')\n",
    "soup1 = bs.BeautifulSoup(source1.text,'html.parser')\n",
    "#for i in soup1.find_all('img',class_='_2yFK- IEpfq'):\n",
    "    #print(i.get('src'))\n"
   ]
  },
  {
   "cell_type": "code",
   "execution_count": 114,
   "metadata": {},
   "outputs": [],
   "source": [
    "links = [link.split('?')[0] for link in links]"
   ]
  },
  {
   "cell_type": "code",
   "execution_count": 120,
   "metadata": {},
   "outputs": [
    {
     "data": {
      "text/plain": [
       "660"
      ]
     },
     "execution_count": 120,
     "metadata": {},
     "output_type": "execute_result"
    }
   ],
   "source": [
    "print(links[9])\n",
    "len(links)"
   ]
  },
  {
   "cell_type": "code",
   "execution_count": 119,
   "metadata": {},
   "outputs": [
    {
     "data": {
      "text/plain": [
       "190"
      ]
     },
     "execution_count": 119,
     "metadata": {},
     "output_type": "execute_result"
    }
   ],
   "source": [
    "res = [] \n",
    "for i in links: \n",
    "    if i not in res: \n",
    "        res.append(i)\n",
    "len(res)"
   ]
  },
  {
   "cell_type": "code",
   "execution_count": 124,
   "metadata": {},
   "outputs": [],
   "source": [
    "import os\n",
    "os.mkdir('C:/Users/adbir/Downloads/Desktop Wallpaper')"
   ]
  },
  {
   "cell_type": "code",
   "execution_count": 126,
   "metadata": {},
   "outputs": [],
   "source": [
    "i=1\n",
    "\n",
    "for index,img_link in enumerate(res):\n",
    "    if i <= 50:\n",
    "        img_data = requests.get(img_link).content\n",
    "        with open('C:/Users/adbir/Downloads/Desktop Wallpaper/' + str(index+1)+'.jpeg','wb+') as f:\n",
    "            f.write(img_data)\n",
    "        i+=1\n",
    "    else:\n",
    "        f.close()\n",
    "        break"
   ]
  },
  {
   "cell_type": "code",
   "execution_count": null,
   "metadata": {},
   "outputs": [],
   "source": []
  }
 ],
 "metadata": {
  "kernelspec": {
   "display_name": "Python 3",
   "language": "python",
   "name": "python3"
  },
  "language_info": {
   "codemirror_mode": {
    "name": "ipython",
    "version": 3
   },
   "file_extension": ".py",
   "mimetype": "text/x-python",
   "name": "python",
   "nbconvert_exporter": "python",
   "pygments_lexer": "ipython3",
   "version": "3.8.3"
  }
 },
 "nbformat": 4,
 "nbformat_minor": 4
}
